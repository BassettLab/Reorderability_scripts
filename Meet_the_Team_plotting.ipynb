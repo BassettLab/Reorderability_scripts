{
 "cells": [
  {
   "cell_type": "markdown",
   "metadata": {},
   "source": [
    "# Plotting figures in the Meet the Team section.\n"
   ]
  },
  {
   "cell_type": "code",
   "execution_count": 1,
   "metadata": {},
   "outputs": [
    {
     "data": {
      "text/html": [
       "<script>\n",
       "// Immediately-invoked-function-expression to avoid global variables.\n",
       "(function() {\n",
       "    var warning_div = document.getElementById(\"webio-warning-14576490940443447360\");\n",
       "    var hide = function () {\n",
       "        var script = document.getElementById(\"webio-setup-8022686502103472460\");\n",
       "        var parent = script && script.parentElement;\n",
       "        var grandparent = parent && parent.parentElement;\n",
       "        if (grandparent) {\n",
       "            grandparent.style.display = \"none\";\n",
       "        }\n",
       "        warning_div.style.display = \"none\";\n",
       "    };\n",
       "    if (typeof Jupyter !== \"undefined\") {\n",
       "        console.log(\"WebIO detected Jupyter notebook environment.\");\n",
       "        // Jupyter notebook.\n",
       "        var extensions = (\n",
       "            Jupyter\n",
       "            && Jupyter.notebook.config.data\n",
       "            && Jupyter.notebook.config.data.load_extensions\n",
       "        );\n",
       "        if (extensions && extensions[\"webio/main\"]) {\n",
       "            // Extension already loaded.\n",
       "            console.log(\"Jupyter WebIO nbextension detected; not loading ad-hoc.\");\n",
       "            hide();\n",
       "            return;\n",
       "        }\n",
       "        console.warn(\"Loading WebIO Jupyter extension on an ad-hoc basis. Consider enabling the WebIO nbextension for a stabler experience (this should happen automatically when building WebIO).\");\n",
       "        require([\"/assetserver/b9b099db28a7ba8f329539eab76be3cb20183848-dist/main.js\"], function (webIOModule) {\n",
       "            webIOModule.load_ipython_extension();\n",
       "        });\n",
       "        warning_div.innerHTML = \"<strong>Loading WebIO Jupyter extension on an ad-hoc basis. Consider enabling the WebIO nbextension for a stabler experience (this should happen automatically when building WebIO).</strong>\";\n",
       "    } else if (window.location.pathname.includes(\"/lab\")) {\n",
       "        // Guessing JupyterLa\n",
       "        console.log(\"Jupyter Lab detected; make sure the @webio/jupyter-lab-provider labextension is installed.\");\n",
       "        hide();\n",
       "        return;\n",
       "    }\n",
       "})();\n",
       "\n",
       "</script>\n",
       "<div\n",
       "    id=\"webio-warning-14576490940443447360\"\n",
       "    class=\"output_text output_stderr\"\n",
       "    style=\"padding: 1em; font-weight: bold;\"\n",
       ">\n",
       "    Unable to load WebIO. Please make sure WebIO works for your Jupyter client.\n",
       "    <!-- TODO: link to installation docs. -->\n",
       "</div>\n"
      ],
      "text/plain": [
       "HTML{String}(\"<script>\\n// Immediately-invoked-function-expression to avoid global variables.\\n(function() {\\n    var warning_div = document.getElementById(\\\"webio-warning-14576490940443447360\\\");\\n    var hide = function () {\\n        var script = document.getElementById(\\\"webio-setup-8022686502103472460\\\");\\n        var parent = script && script.parentElement;\\n        var grandparent = parent && parent.parentElement;\\n        if (grandparent) {\\n            grandparent.style.display = \\\"none\\\";\\n        }\\n        warning_div.style.display = \\\"none\\\";\\n    };\\n    if (typeof Jupyter !== \\\"undefined\\\") {\\n        console.log(\\\"WebIO detected Jupyter notebook environment.\\\");\\n        // Jupyter notebook.\\n        var extensions = (\\n            Jupyter\\n            && Jupyter.notebook.config.data\\n            && Jupyter.notebook.config.data.load_extensions\\n        );\\n        if (extensions && extensions[\\\"webio/main\\\"]) {\\n            // Extension already loaded.\\n            console.log(\\\"Jupyter WebIO nbextension detected; not loading ad-hoc.\\\");\\n            hide();\\n            return;\\n        }\\n        console.warn(\\\"Loading WebIO Jupyter extension on an ad-hoc basis. Consider enabling the WebIO nbextension for a stabler experience (this should happen automatically when building WebIO).\\\");\\n        require([\\\"/assetserver/b9b099db28a7ba8f329539eab76be3cb20183848-dist/main.js\\\"], function (webIOModule) {\\n            webIOModule.load_ipython_extension();\\n        });\\n        warning_div.innerHTML = \\\"<strong>Loading WebIO Jupyter extension on an ad-hoc basis. Consider enabling the WebIO nbextension for a stabler experience (this should happen automatically when building WebIO).</strong>\\\";\\n    } else if (window.location.pathname.includes(\\\"/lab\\\")) {\\n        // Guessing JupyterLa\\n        console.log(\\\"Jupyter Lab detected; make sure the @webio/jupyter-lab-provider labextension is installed.\\\");\\n        hide();\\n        return;\\n    }\\n})();\\n\\n</script>\\n<div\\n    id=\\\"webio-warning-14576490940443447360\\\"\\n    class=\\\"output_text output_stderr\\\"\\n    style=\\\"padding: 1em; font-weight: bold;\\\"\\n>\\n    Unable to load WebIO. Please make sure WebIO works for your Jupyter client.\\n    <!-- TODO: link to installation docs. -->\\n</div>\\n\")"
      ]
     },
     "metadata": {},
     "output_type": "display_data"
    },
    {
     "name": "stderr",
     "output_type": "stream",
     "text": [
      "┌ Warning: RCall.jl: \n",
      "│ Attaching package: ‘igraph’\n",
      "│ \n",
      "│ The following objects are masked from ‘package:stats’:\n",
      "│ \n",
      "│     decompose, spectrum\n",
      "│ \n",
      "│ The following object is masked from ‘package:base’:\n",
      "│ \n",
      "│     union\n",
      "│ \n",
      "└ @ RCall /Users/annsizemore/.julia/packages/RCall/ffM0W/src/io.jl:113\n"
     ]
    },
    {
     "data": {
      "text/plain": [
       "strictLTvector3D (generic function with 1 method)"
      ]
     },
     "execution_count": 1,
     "metadata": {},
     "output_type": "execute_result"
    }
   ],
   "source": [
    "# Import packages and load in helper functions\n",
    "include(\"helper_functions.jl\")\n"
   ]
  },
  {
   "cell_type": "markdown",
   "metadata": {},
   "source": [
    "## Load matrices and computed barcodes\n",
    "\n",
    "Matrices constructed in Matlab, and barcodes computed using the Running_Eirene.jl script."
   ]
  },
  {
   "cell_type": "code",
   "execution_count": 2,
   "metadata": {},
   "outputs": [
    {
     "name": "stdout",
     "output_type": "stream",
     "text": [
      "Loaded NF_prefAttach_m4_1218 with 1.0 graphs, 1000.0 replicates, and \n",
      "        70.0 nodes\n"
     ]
    }
   ],
   "source": [
    "\n",
    "####### ---- To define ------ #####\n",
    "\n",
    "maxDim = 3\n",
    "graph_name = \"NF_prefAttach_m4_1218\"\n",
    "\n",
    "####### --------------------- #####\n",
    "\n",
    "\n",
    "# Load the growing graph model and 1000 replicates\n",
    "filename = \"$graph_name\"\n",
    "z = load(\"Results/$(filename)_pis.jld\")\n",
    "barcode_array = z[\"barcode_array\"]\n",
    "z = nothing\n",
    "dict1 = matread(\"Results/$(filename).mat\")\n",
    "s_0_array = dict1[\"s_0_array\"]\n",
    "nReps = dict1[\"nReps\"]\n",
    "nGraphs = dict1[\"nGraphs\"]\n",
    "nNodes = dict1[\"nNodes\"]\n",
    "jadj_array = dict1[\"jadj_array\"]\n",
    "nmats = size(s_0_array,1)\n",
    "dict1 = nothing\n",
    "GC.gc()\n",
    "\n",
    "\n",
    "\n",
    "println(\"Loaded $(filename) with $nGraphs graphs, $nReps replicates, and \n",
    "        $nNodes nodes\")"
   ]
  },
  {
   "cell_type": "markdown",
   "metadata": {},
   "source": [
    "## Persistent homology analyses on the growing graph model\n",
    "\n",
    "### Calculating the Betti curves, birth curves, death curves, average evolving degree distribution, and edge density. \n"
   ]
  },
  {
   "cell_type": "code",
   "execution_count": 3,
   "metadata": {},
   "outputs": [
    {
     "data": {
      "text/plain": [
       "70×70 Array{Float64,2}:\n",
       " 0.0  0.626  1.252  1.885  2.885  3.665  …  17.349  17.476  17.595  17.74 \n",
       " 0.0  0.626  1.234  1.883  2.883  3.67      17.553  17.691  17.834  17.975\n",
       " 0.0  0.0    1.234  1.839  2.839  3.616     17.378  17.503  17.636  17.766\n",
       " 0.0  0.0    0.0    1.887  2.887  3.656     17.064  17.179  17.304  17.443\n",
       " 0.0  0.0    0.0    0.0    4.0    4.887     21.717  21.872  22.042  22.207\n",
       " 0.0  0.0    0.0    0.0    0.0    4.0    …  18.978  19.139  19.272  19.417\n",
       " 0.0  0.0    0.0    0.0    0.0    0.0       16.472  16.584  16.695  16.802\n",
       " 0.0  0.0    0.0    0.0    0.0    0.0       14.8    14.915  15.041  15.152\n",
       " 0.0  0.0    0.0    0.0    0.0    0.0       13.475  13.579  13.684  13.791\n",
       " 0.0  0.0    0.0    0.0    0.0    0.0       12.519  12.621  12.715  12.788\n",
       " 0.0  0.0    0.0    0.0    0.0    0.0    …  11.728  11.825  11.911  12.016\n",
       " 0.0  0.0    0.0    0.0    0.0    0.0       11.197  11.282  11.368  11.473\n",
       " 0.0  0.0    0.0    0.0    0.0    0.0       10.492  10.579  10.667  10.749\n",
       " ⋮                                ⋮      ⋱                                \n",
       " 0.0  0.0    0.0    0.0    0.0    0.0        4.288   4.332   4.358   4.4  \n",
       " 0.0  0.0    0.0    0.0    0.0    0.0        4.257   4.289   4.328   4.356\n",
       " 0.0  0.0    0.0    0.0    0.0    0.0    …   4.192   4.233   4.267   4.301\n",
       " 0.0  0.0    0.0    0.0    0.0    0.0        4.191   4.22    4.255   4.293\n",
       " 0.0  0.0    0.0    0.0    0.0    0.0        4.145   4.18    4.216   4.256\n",
       " 0.0  0.0    0.0    0.0    0.0    0.0        4.102   4.134   4.168   4.198\n",
       " 0.0  0.0    0.0    0.0    0.0    0.0        4.056   4.087   4.114   4.142\n",
       " 0.0  0.0    0.0    0.0    0.0    0.0    …   4.044   4.076   4.118   4.152\n",
       " 0.0  0.0    0.0    0.0    0.0    0.0        4.0     4.032   4.074   4.103\n",
       " 0.0  0.0    0.0    0.0    0.0    0.0        0.0     4.0     4.028   4.056\n",
       " 0.0  0.0    0.0    0.0    0.0    0.0        0.0     0.0     4.0     4.026\n",
       " 0.0  0.0    0.0    0.0    0.0    0.0        0.0     0.0     0.0     4.0  "
      ]
     },
     "execution_count": 3,
     "metadata": {},
     "output_type": "execute_result"
    }
   ],
   "source": [
    "## Calculate Betti curve\n",
    "bettiCurve, birthCurve, deathCurve = bettiCurveFromBarcode(barcode_array,nNodes,nmats,maxDim)\n",
    "\n",
    "ribbon_std = dropdims(std(bettiCurve,dims = 1),dims = 1)\n",
    "bettiCurve_mean = mean(bettiCurve,dims = 1)\n",
    "bettiCurve_mean = dropdims(bettiCurve_mean,dims = 1)\n",
    "birthCurveMean = dropdims(mean(birthCurve,dims = 1),dims = 1)\n",
    "birthCurveStd = dropdims(std(birthCurve,dims = 1), dims = 1)\n",
    "deathCurveMean = dropdims(mean(deathCurve, dims = 1), dims = 1)\n",
    "deathCurveStd = dropdims(std(deathCurve,dims = 1), dims = 1)\n",
    "\n",
    "\n",
    "## Pick one example growing graph to plot\n",
    "adj = jadj_array[:,:,1]\n",
    "adj[adj.==(nNodes*2)] .= 0\n",
    "adj[adj.>0] .= 1 \n",
    "\n",
    "## For persistence diagrams\n",
    "barcode1 = barcode_array[1,1]\n",
    "barcode1[barcode1.==(nNodes*2)] .= nNodes\n",
    "barcode2 = barcode_array[1,2]\n",
    "barcode2[barcode2.==(nNodes*2)] .= nNodes\n",
    "\n",
    "## Calculate edge density along the filtration \n",
    "edgeQuantityArray = calculateEdgeQuantity(jadj_array)\n",
    "nEdgesFinal = binomial(Int(nNodes),2)\n",
    "edgeDensityArray = edgeQuantityArray./nEdgesFinal\n",
    "edgeDensityMean = dropdims(mean(edgeDensityArray,dims=1),dims = 1)\n",
    "edgeDensityStd = dropdims(std(edgeDensityArray,dims = 1),dims = 1)\n",
    "\n",
    "## Calculate average degree along filtration \n",
    "degree_array = calculateDegreesFiltration(jadj_array,nNodes)\n",
    "degree_array_mean = dropdims(mean(degree_array,dims = 3),dims = 3)\n",
    "\n",
    "\n"
   ]
  },
  {
   "cell_type": "markdown",
   "metadata": {},
   "source": [
    "## Plots\n",
    "\n",
    "Plots will be saved under $(graph_name).pdf and were used to construct figures in the Results (Meet the Team) and the Supplement."
   ]
  },
  {
   "cell_type": "code",
   "execution_count": null,
   "metadata": {},
   "outputs": [],
   "source": [
    "## Plot using gr backend in Plots\n",
    "gr()\n",
    "fontSize = 10\n",
    "\n",
    "p1 = heatmap(adj,yflip = true,aspect_ratio=:equal, colorbar = false, color = :blues)\n",
    "p2 = plot(1:(nNodes+1),bettiCurve_mean, label = [\"B_1\" \"B_2\" \"B_3\"], lw = 2,\n",
    "    ribbon = ribbon_std, size = (600,300),framestyle = :box, legend = false,\n",
    "    xlim = (0,nNodes),xtickfont = font(fontSize),ytickfont = font(fontSize))\n",
    "\n",
    "p3 = plot(1:nNodes,1:nNodes, c = RGB(0.55,0.55,0.55), framestyle =:box, aspect_ratio =:equal)\n",
    "scatter!(barcode1[:,1],barcode1[:,2],markeralpha = 0.3,legend = false)\n",
    "\n",
    "p4 = plot(1:nNodes,1:nNodes, c = RGB(0.55,0.55,0.55), framestyle =:box, aspect_ratio =:equal,\n",
    "    ylim = (0,nNodes), xlim = (0,nNodes))\n",
    "scatter!(barcode2[:,1],barcode2[:,2],markeralpha = 0.3,c = :blue,aspect_ratio = :equal,legend = false,\n",
    "    ytickfont = font(fontSize), xtickfont = font(fontSize))\n",
    "\n",
    "p5 = plot(1:nNodes,edgeDensityMean,ribbon = edgeDensityStd,legend = false,\n",
    "    xlim = (0,nNodes), ytickfont = font(fontSize), xtickfont = font(fontSize))\n",
    "\n",
    "graphN = 1\n",
    "p6 = plotBarcode(barcode_array,nNodes,graphN,maxDim,fontSize)\n",
    "\n",
    "p7 = plot(1:nNodes, birthCurveMean, ribbon = birthCurveStd, xlim = (0,nNodes), ytickfont = font(fontSize), \n",
    "    xtickfont = font(fontSize))\n",
    "plot!(1:nNodes, deathCurveMean, ribbon = deathCurveStd)\n",
    "\n",
    "\n",
    "p8 = heatmap(degree_array_mean,yflip = true,aspect_ratio=:equal, colorbar = true, color = :magma,\n",
    "    ytickfont = font(7), xtickfont = font(fontSize))\n",
    "\n",
    "\n",
    "pall = plot(p1,p2,p3,p4,p5,p6,p7,p8,layout=(4,2),margin = 1mm,size= (400,450),framestyle = :box)\n",
    "display(pall)\n",
    "savefig(\"$(graph_name).pdf\")\n",
    "\n",
    "# Clear variables\n",
    "s_0_array = nothing\n",
    "nReps = nothing\n",
    "nGraphs = nothing\n",
    "nNodes = nothing\n",
    "GC.gc()\n",
    "\n",
    "println(\"Finished saving $(graph_name).pdf\")"
   ]
  }
 ],
 "metadata": {
  "kernelspec": {
   "display_name": "Julia 1.0.3",
   "language": "julia",
   "name": "julia-1.0"
  },
  "language_info": {
   "file_extension": ".jl",
   "mimetype": "application/julia",
   "name": "julia",
   "version": "1.0.3"
  }
 },
 "nbformat": 4,
 "nbformat_minor": 2
}
