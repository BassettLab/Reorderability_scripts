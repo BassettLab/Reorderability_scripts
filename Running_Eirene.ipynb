{
 "cells": [
  {
   "cell_type": "markdown",
   "metadata": {},
   "source": [
    "# Running Eirene on growing networks.\n",
    "\n",
    "\n",
    "### This notebook contains code needed to import growing networks from MATLAB and compute the persistent homology.\n",
    "\n"
   ]
  },
  {
   "cell_type": "markdown",
   "metadata": {},
   "source": [
    "### Load packages"
   ]
  },
  {
   "cell_type": "code",
   "execution_count": 1,
   "metadata": {},
   "outputs": [
    {
     "name": "stderr",
     "output_type": "stream",
     "text": [
      "┌ Info: Precompiling Eirene [9c0f25c4-2ca1-5870-89f6-52640788da1d]\n",
      "└ @ Base loading.jl:1192\n",
      "WARNING: could not import Base.quit into AtomShell\n",
      "ERROR: LoadError: LoadError: KeyError: key \"Plotly\" not found\n",
      "Stacktrace:\n",
      " [1] getindex(::Dict{String,Union{Nothing, VersionNumber}}, ::String) at ./dict.jl:478\n",
      " [2] top-level scope at none:0\n",
      " [3] include at ./boot.jl:317 [inlined]\n",
      " [4] include_relative(::Module, ::String) at ./loading.jl:1044\n",
      " [5] include at ./sysimg.jl:29 [inlined]\n",
      " [6] include(::String) at /Users/annblevins/.julia/packages/Plotly/C5oqo/src/Plotly.jl:1\n",
      " [7] top-level scope at none:0\n",
      " [8] include at ./boot.jl:317 [inlined]\n",
      " [9] include_relative(::Module, ::String) at ./loading.jl:1044\n",
      " [10] include(::Module, ::String) at ./sysimg.jl:29\n",
      " [11] top-level scope at none:2\n",
      " [12] eval at ./boot.jl:319 [inlined]\n",
      " [13] eval(::Expr) at ./client.jl:393\n",
      " [14] top-level scope at ./none:3\n",
      "in expression starting at /Users/annblevins/.julia/packages/Plotly/C5oqo/src/v2.jl:6\n",
      "in expression starting at /Users/annblevins/.julia/packages/Plotly/C5oqo/src/Plotly.jl:19\n",
      "ERROR: LoadError: Failed to precompile Plotly [58dd65bb-95f3-509e-9936-c39a10fdeae7] to /Users/annblevins/.julia/compiled/v1.0/Plotly/M5iCk.ji.\n",
      "Stacktrace:\n",
      " [1] error(::String) at ./error.jl:33\n",
      " [2] compilecache(::Base.PkgId, ::String) at ./loading.jl:1203\n",
      " [3] _require(::Base.PkgId) at ./loading.jl:960\n",
      " [4] require(::Base.PkgId) at ./loading.jl:858\n",
      " [5] require(::Module, ::Symbol) at ./loading.jl:853\n",
      " [6] include at ./boot.jl:317 [inlined]\n",
      " [7] include_relative(::Module, ::String) at ./loading.jl:1044\n",
      " [8] include(::Module, ::String) at ./sysimg.jl:29\n",
      " [9] top-level scope at none:2\n",
      " [10] eval at ./boot.jl:319 [inlined]\n",
      " [11] eval(::Expr) at ./client.jl:393\n",
      " [12] top-level scope at ./none:3\n",
      "in expression starting at /Users/annblevins/.julia/packages/Eirene/l24p9/src/Eirene.jl:42\n"
     ]
    },
    {
     "ename": "ErrorException",
     "evalue": "Failed to precompile Eirene [9c0f25c4-2ca1-5870-89f6-52640788da1d] to /Users/annblevins/.julia/compiled/v1.0/Eirene/mCiG1.ji.",
     "output_type": "error",
     "traceback": [
      "Failed to precompile Eirene [9c0f25c4-2ca1-5870-89f6-52640788da1d] to /Users/annblevins/.julia/compiled/v1.0/Eirene/mCiG1.ji.",
      "",
      "Stacktrace:",
      " [1] error(::String) at ./error.jl:33",
      " [2] compilecache(::Base.PkgId, ::String) at ./loading.jl:1203",
      " [3] _require(::Base.PkgId) at ./loading.jl:960",
      " [4] require(::Base.PkgId) at ./loading.jl:858",
      " [5] require(::Module, ::Symbol) at ./loading.jl:853",
      " [6] top-level scope at In[1]:2"
     ]
    }
   ],
   "source": [
    "using Pkg\n",
    "using Eirene\n",
    "using MAT\n",
    "using DataFrames\n",
    "using JLD"
   ]
  },
  {
   "cell_type": "markdown",
   "metadata": {},
   "source": [
    "## Running Eirene on matrices generated in Matlab"
   ]
  },
  {
   "cell_type": "code",
   "execution_count": 2,
   "metadata": {},
   "outputs": [
    {
     "ename": "UndefVarError",
     "evalue": "UndefVarError: matread not defined",
     "output_type": "error",
     "traceback": [
      "UndefVarError: matread not defined",
      "",
      "Stacktrace:",
      " [1] top-level scope at In[2]:4"
     ]
    }
   ],
   "source": [
    "\n",
    "# Read in array from Matlab.\n",
    "filename = \"NF_RG_ep015_1218\"\n",
    "arr = matread(\"/Users/annsizemore/Dropbox/Top Sim and Homog/Results/$(filename)_forJul.mat\")\n",
    "printstyled(\"Matrices loaded...\", color = :green)\n",
    "\n",
    "# Extract relelvant data.\n",
    "arr1 = arr[\"jadj_array\"]\n",
    "nmats = size(arr1)[3]\n",
    "nNodes = size(arr1)[1]\n",
    "maxDim = 3\n",
    "\n",
    "# Preallocate.\n",
    "barcode_array = Array{Array{Float64}}(undef,nmats,3)\n",
    "\n",
    "# Run persistent homology for every growing network in arr1.\n",
    "beginTime = time()\n",
    "for i in collect(1:nmats)\n",
    "    \n",
    "    adj = arr1[:,:,i]\n",
    "    C = eirene(adj,maxdim = 3, record = \"none\",minrad = 0.5)\n",
    "\n",
    "    # Store barcodes for each dimension.\n",
    "    for k in collect(1:maxDim)\n",
    "        \n",
    "        barcode_array[i,k] = barcode(C,dim=k)\n",
    "        \n",
    "    end \n",
    "    \n",
    "    \n",
    "    if i%100 == 0\n",
    "        printstyled(\"\\nRun $(i) finished.\\n\",color = :cyan)\n",
    "    end\n",
    "    \n",
    "    \n",
    "    C = nothing\n",
    "    GC.gc()\n",
    "    \n",
    "end\n",
    "\n",
    "endTime = time() - beginTime\n",
    "printstyled(\"Finished computing persistent homology, elapsed time $(endTime) seconds\", color = :cyan)\n",
    "#save(\"/Users/annsizemore/Dropbox/Top Sim and Homog/Results/$(filename)_test1_pis.jld\", \"barcode_array\",barcode_array)\n",
    "printstyled(\"\\nDone :)\", color = :blue)"
   ]
  },
  {
   "cell_type": "code",
   "execution_count": null,
   "metadata": {},
   "outputs": [],
   "source": []
  }
 ],
 "metadata": {
  "kernelspec": {
   "display_name": "Julia 1.0.3",
   "language": "julia",
   "name": "julia-1.0"
  },
  "language_info": {
   "file_extension": ".jl",
   "mimetype": "application/julia",
   "name": "julia",
   "version": "1.0.3"
  }
 },
 "nbformat": 4,
 "nbformat_minor": 2
}
