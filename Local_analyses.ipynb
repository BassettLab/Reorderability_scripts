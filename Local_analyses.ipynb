{
 "cells": [
  {
   "cell_type": "markdown",
   "metadata": {},
   "source": [
    "## Analyses for pairwise swaps"
   ]
  },
  {
   "cell_type": "code",
   "execution_count": 1,
   "metadata": {},
   "outputs": [
    {
     "data": {
      "text/html": [
       "<script>\n",
       "// Immediately-invoked-function-expression to avoid global variables.\n",
       "(function() {\n",
       "    var warning_div = document.getElementById(\"webio-warning-12782138989458790164\");\n",
       "    var hide = function () {\n",
       "        var script = document.getElementById(\"webio-setup-12092119290864109657\");\n",
       "        var parent = script && script.parentElement;\n",
       "        var grandparent = parent && parent.parentElement;\n",
       "        if (grandparent) {\n",
       "            grandparent.style.display = \"none\";\n",
       "        }\n",
       "        warning_div.style.display = \"none\";\n",
       "    };\n",
       "    if (typeof Jupyter !== \"undefined\") {\n",
       "        console.log(\"WebIO detected Jupyter notebook environment.\");\n",
       "        // Jupyter notebook.\n",
       "        var extensions = (\n",
       "            Jupyter\n",
       "            && Jupyter.notebook.config.data\n",
       "            && Jupyter.notebook.config.data.load_extensions\n",
       "        );\n",
       "        if (extensions && extensions[\"webio/main\"]) {\n",
       "            // Extension already loaded.\n",
       "            console.log(\"Jupyter WebIO nbextension detected; not loading ad-hoc.\");\n",
       "            hide();\n",
       "            return;\n",
       "        }\n",
       "        console.warn(\"Loading WebIO Jupyter extension on an ad-hoc basis. Consider enabling the WebIO nbextension for a stabler experience (this should happen automatically when building WebIO).\");\n",
       "        require([\"/assetserver/b9b099db28a7ba8f329539eab76be3cb20183848-dist/main.js\"], function (webIOModule) {\n",
       "            webIOModule.load_ipython_extension();\n",
       "        });\n",
       "        warning_div.innerHTML = \"<strong>Loading WebIO Jupyter extension on an ad-hoc basis. Consider enabling the WebIO nbextension for a stabler experience (this should happen automatically when building WebIO).</strong>\";\n",
       "    } else if (window.location.pathname.includes(\"/lab\")) {\n",
       "        // Guessing JupyterLa\n",
       "        console.log(\"Jupyter Lab detected; make sure the @webio/jupyter-lab-provider labextension is installed.\");\n",
       "        hide();\n",
       "        return;\n",
       "    }\n",
       "})();\n",
       "\n",
       "</script>\n",
       "<div\n",
       "    id=\"webio-warning-12782138989458790164\"\n",
       "    class=\"output_text output_stderr\"\n",
       "    style=\"padding: 1em; font-weight: bold;\"\n",
       ">\n",
       "    Unable to load WebIO. Please make sure WebIO works for your Jupyter client.\n",
       "    <!-- TODO: link to installation docs. -->\n",
       "</div>\n"
      ],
      "text/plain": [
       "HTML{String}(\"<script>\\n// Immediately-invoked-function-expression to avoid global variables.\\n(function() {\\n    var warning_div = document.getElementById(\\\"webio-warning-12782138989458790164\\\");\\n    var hide = function () {\\n        var script = document.getElementById(\\\"webio-setup-12092119290864109657\\\");\\n        var parent = script && script.parentElement;\\n        var grandparent = parent && parent.parentElement;\\n        if (grandparent) {\\n            grandparent.style.display = \\\"none\\\";\\n        }\\n        warning_div.style.display = \\\"none\\\";\\n    };\\n    if (typeof Jupyter !== \\\"undefined\\\") {\\n        console.log(\\\"WebIO detected Jupyter notebook environment.\\\");\\n        // Jupyter notebook.\\n        var extensions = (\\n            Jupyter\\n            && Jupyter.notebook.config.data\\n            && Jupyter.notebook.config.data.load_extensions\\n        );\\n        if (extensions && extensions[\\\"webio/main\\\"]) {\\n            // Extension already loaded.\\n            console.log(\\\"Jupyter WebIO nbextension detected; not loading ad-hoc.\\\");\\n            hide();\\n            return;\\n        }\\n        console.warn(\\\"Loading WebIO Jupyter extension on an ad-hoc basis. Consider enabling the WebIO nbextension for a stabler experience (this should happen automatically when building WebIO).\\\");\\n        require([\\\"/assetserver/b9b099db28a7ba8f329539eab76be3cb20183848-dist/main.js\\\"], function (webIOModule) {\\n            webIOModule.load_ipython_extension();\\n        });\\n        warning_div.innerHTML = \\\"<strong>Loading WebIO Jupyter extension on an ad-hoc basis. Consider enabling the WebIO nbextension for a stabler experience (this should happen automatically when building WebIO).</strong>\\\";\\n    } else if (window.location.pathname.includes(\\\"/lab\\\")) {\\n        // Guessing JupyterLa\\n        console.log(\\\"Jupyter Lab detected; make sure the @webio/jupyter-lab-provider labextension is installed.\\\");\\n        hide();\\n        return;\\n    }\\n})();\\n\\n</script>\\n<div\\n    id=\\\"webio-warning-12782138989458790164\\\"\\n    class=\\\"output_text output_stderr\\\"\\n    style=\\\"padding: 1em; font-weight: bold;\\\"\\n>\\n    Unable to load WebIO. Please make sure WebIO works for your Jupyter client.\\n    <!-- TODO: link to installation docs. -->\\n</div>\\n\")"
      ]
     },
     "metadata": {},
     "output_type": "display_data"
    },
    {
     "name": "stderr",
     "output_type": "stream",
     "text": [
      "┌ Warning: RCall.jl: \n",
      "│ Attaching package: ‘igraph’\n",
      "│ \n",
      "│ The following objects are masked from ‘package:stats’:\n",
      "│ \n",
      "│     decompose, spectrum\n",
      "│ \n",
      "│ The following object is masked from ‘package:base’:\n",
      "│ \n",
      "│     union\n",
      "│ \n",
      "└ @ RCall /Users/annsizemore/.julia/packages/RCall/ffM0W/src/io.jl:113\n"
     ]
    },
    {
     "data": {
      "text/plain": [
       "computeBettiDistances_glob (generic function with 1 method)"
      ]
     },
     "execution_count": 1,
     "metadata": {},
     "output_type": "execute_result"
    }
   ],
   "source": [
    "\n",
    "# Import packages and load in helper functions\n",
    "include(\"helper_functions.jl\")\n"
   ]
  },
  {
   "cell_type": "markdown",
   "metadata": {},
   "source": [
    "## Load in the data"
   ]
  },
  {
   "cell_type": "code",
   "execution_count": 2,
   "metadata": {},
   "outputs": [
    {
     "name": "stdout",
     "output_type": "stream",
     "text": [
      "1\n",
      "2417\n",
      "4833\n",
      "7249\n",
      "9665\n",
      "12081\n",
      "14497\n",
      "16913\n",
      "19329\n",
      "21745\n",
      "24161\n",
      "26577\n",
      "28993\n",
      "31409\n",
      "33825\n",
      "36241\n",
      "38657\n",
      "41073\n",
      "43489\n",
      "45905\n",
      "loaded :)\n"
     ]
    }
   ],
   "source": [
    "\n",
    "####### ---- parameters to define ------ #####\n",
    "maxDim = 3\n",
    "yLim = 6         # 70 for propprob, 6 for RG and abssin, 250 for ER, 80 for pa, 60 spgr\n",
    "graph_name = \"NF_ER_p04_1218\"\n",
    "###### ---------------------------- ######\n",
    "\n",
    "\n",
    "graph_name_0 = \"$(graph_name)\"\n",
    "graph_name_local = \"$(graph_name)_local\"\n",
    "\n",
    "\n",
    "z = load(\"Results/$(graph_name_local)_pis.jld\")\n",
    "barcode_array = z[\"barcode_array\"]\n",
    "dmat_local = computeBNDistances_local(barcode_array)\n",
    "\n",
    "\n",
    "println(\"loaded :)\")"
   ]
  },
  {
   "cell_type": "code",
   "execution_count": 3,
   "metadata": {},
   "outputs": [
    {
     "name": "stdout",
     "output_type": "stream",
     "text": [
      "loaded relevant data20\n",
      "2416\n",
      "(70, 70, 20, 3)\n",
      "(70, 70, 20)\n",
      "(70, 70)\n",
      "Finished this block :)\n"
     ]
    }
   ],
   "source": [
    "# Load in reordering data\n",
    "colors_orig = [RGB(0.1,0.1,1) RGB(0.1,1,0.1) RGB(1,0.1,0.1)]\n",
    "colors_r = [RGB(0.3,0.5,1) RGB(0.23,0.9,0.4) RGB(0.9,0.3,0.5)]\n",
    "\n",
    "\n",
    "#dict5 = matread(\"Results/$(graph_name_local)_bottleneckDistances.mat\")\n",
    "#dmat_local = dict5[\"distanceMat\"]\n",
    "dict6 = matread(\"Results/$(graph_name_local).mat\")\n",
    "s_0_array_local = dict6[\"s_0_array\"]\n",
    "nNodes = dict6[\"nNodes\"]\n",
    "nNodes = Int(nNodes)\n",
    "nGraphs = dict6[\"nGraphs\"]\n",
    "nGraphs = Int(nGraphs)\n",
    "nReps = 2416\n",
    "dict6 = nothing\n",
    "z1= load(\"Results/$(graph_name_local)_pis.jld\")\n",
    "barcode_array_local = z1[\"barcode_array\"]\n",
    "\n",
    "dict7 = nothing\n",
    "z1 = nothing\n",
    "GC.gc()\n",
    "print(\"loaded relevant data\")\n",
    "println(nGraphs)\n",
    "println(nReps)\n",
    "\n",
    "\n",
    "# Create a weight function on the nodes induced by the ordering\n",
    "s_wei_array_local = orderToWeights(s_0_array_local,nNodes)\n",
    "theo_dist_local = calculateTheoreticaMaxDistance(s_wei_array_local,48320) \n",
    "\n",
    "\n",
    "inds1 = collect(0:nReps:(nReps*nGraphs-1))\n",
    "inds1 = inds1 .+1\n",
    "inds1 = Int.(inds1)\n",
    "barcode_array_orig = barcode_array_local[inds1,:]\n",
    "indsr = setdiff(1:(nReps*nGraphs),inds1)\n",
    "indsr = Int.(indsr)\n",
    "barcode_array_r = barcode_array_local[indsr,:]\n",
    "\n",
    "# Calculate and record the maximum bottleneck distance possible\n",
    "# Reshape bottleneck distance data\n",
    "theo_dist_swap = zeros(Int(nNodes),Int(nNodes),nGraphs)\n",
    "bdist_swap = zeros(Int(nNodes),Int(nNodes),nGraphs,maxDim)\n",
    "\n",
    "\n",
    "iter = 1\n",
    "for r in 1:nGraphs\n",
    "    iter = iter+1\n",
    "    \n",
    "    for i0 in collect(1:nNodes)\n",
    "        for j0 in collect((i0+1):nNodes)\n",
    "            theo_dist_swap[Int(i0),Int(j0),Int(r)] = theo_dist_local[iter]\n",
    "            theo_dist_swap[Int(j0),Int(i0),Int(r)] = theo_dist_swap[Int(i0),Int(j0),Int(r)]\n",
    "            for d0 in collect(1:maxDim)\n",
    "                bdist_swap[Int(i0),Int(j0),Int(r),d0] = dmat_local[iter,d0]\n",
    "                bdist_swap[Int(j0),Int(i0),Int(r),d0] = bdist_swap[Int(i0),Int(j0),Int(r),d0]\n",
    "            end\n",
    "            iter = iter+1\n",
    "        end\n",
    "    end\n",
    "end\n",
    "\n",
    "println(size(bdist_swap))\n",
    "bdist_swap_mean1 = dropdims(mean(bdist_swap,dims = 4), dims = 4)\n",
    "println(size(bdist_swap_mean1))\n",
    "bdist_swap_mean = dropdims(mean(bdist_swap_mean1,dims = 3),dims = 3)\n",
    "simRatio = 1 .- bdist_swap_mean./theo_dist_swap[:,:,1]\n",
    "simRatio[isnan.(simRatio)] .= 1\n",
    "println(size(bdist_swap_mean))\n",
    "\n",
    "\n",
    "#### Compute topological overlap\n",
    "dict6 = matread(\"Results/$(graph_name_local).mat\")\n",
    "badj_array_all = dict6[\"badj_array\"]\n",
    "origs = collect(1:nReps:size(badj_array_all,3))\n",
    "badj_array = badj_array_all[:,:,origs]\n",
    "badj_array_all = nothing\n",
    "dict6 = nothing\n",
    "GC.gc()\n",
    "\n",
    "## Compute topological overlap on everything\n",
    "tolap_all = zeros(nNodes, nNodes, nGraphs)\n",
    "for i0 in collect(1:nGraphs)\n",
    "    badj1 = badj_array[:,:,i0]\n",
    "    R_tolap = R\"calculate_top_overlap\"\n",
    "    tolapR = R_tolap(badj1)\n",
    "    tolap = rcopy(tolapR)\n",
    "    tolap_all[:,:,i0] = deepcopy(tolap)\n",
    "\n",
    "end\n",
    "\n",
    "println(\"Finished this block :)\")"
   ]
  },
  {
   "cell_type": "code",
   "execution_count": 4,
   "metadata": {},
   "outputs": [
    {
     "name": "stdout",
     "output_type": "stream",
     "text": [
      "finished saving NF_ER_p04_1218_local.pdf\n"
     ]
    }
   ],
   "source": [
    "# Plot first heatmaps\n",
    "gr()\n",
    "p2a = plot(0:nNodes,0:nNodes,c = RGB(0.64,0.64,0.64),title = \"Distance plots\")\n",
    "scatter!(theo_dist_local,dmat_local[:,1],title = graph_name, xlabel = \"Theoretical max distance\",\n",
    "    ylabel = \"Bottleneck Distance\",aspect_ratio = :equal,)\n",
    "p2b = heatmap(theo_dist_swap[:,:,1],yflip = true,aspect_ratio =:equal, title = \"Theo Distance\", color = :blues)\n",
    "p2c = heatmap(bdist_swap_mean,yflip = true, aspect_ratio=:equal, title = \"$(graph_name) BN Distance Dim1\", color = :Greys_r)\n",
    "p2d = heatmap(simRatio,yflip = true, aspect_ratio=:equal, title = \"Similarity Ratio Dim1\", color = :tempo)\n",
    "p2e = heatmap(tolap_all[:,:,1], yflip = true, aspect_ratio = :equal, title = \"Tolap ex 1\")\n",
    "p2f = heatmap(tolap_all[:,:,2], yflip = true, aspect_ratio = :equal, title = \"Tolap ex 2\")\n",
    "\n",
    "p2all = plot(p2a,p2b,p2c,p2d,p2e,p2f,layout = (3,2),margin = 10mm, size = (900,800))\n",
    "#display(p2all)\n",
    "\n",
    "savefig(\"$(graph_name)_local.pdf\")\n",
    "\n",
    "println(\"finished saving $(graph_name)_local.pdf\")"
   ]
  },
  {
   "cell_type": "code",
   "execution_count": 5,
   "metadata": {},
   "outputs": [
    {
     "name": "stdout",
     "output_type": "stream",
     "text": [
      "[0.195396 0.379079 0.121824]\n"
     ]
    }
   ],
   "source": [
    "## Run through and fit linear models to distance data\n",
    "\n",
    "record_slopes_mat =zeros(nGraphs,maxDim)\n",
    "Tdist = strictLTvector(theo_dist_swap[:,:,1])\n",
    "\n",
    "inds_of_interest = findall(Tdist.<=14)\n",
    "X = reshape(Tdist[inds_of_interest],length(inds_of_interest),1)\n",
    "\n",
    "for r0 = collect(1:Int(nGraphs))\n",
    "    for d0 = collect(1:maxDim)\n",
    "        rep_dim_array = strictLTvector(bdist_swap[:,:,r0,d0])\n",
    "        Y = reshape(rep_dim_array[inds_of_interest],length(inds_of_interest),1)\n",
    "        \n",
    "        \n",
    "        # For the near neighbor fits we can assume b=0 in Y=mX+b\n",
    "        slopeVal = llsq(X,Y; bias = false)\n",
    "        record_slopes_mat[r0,d0] = slopeVal[1]\n",
    "    end\n",
    "end\n",
    "        \n",
    "# Now we have fits in record_slopes_mat which is nGraphs x maxDim\n",
    "\n",
    "\n",
    "println(mean(record_slopes_mat,dims = 1))"
   ]
  },
  {
   "cell_type": "code",
   "execution_count": 6,
   "metadata": {},
   "outputs": [
    {
     "name": "stdout",
     "output_type": "stream",
     "text": [
      "Done saving NF_ER_p04_1218_local_boxplots.pdf\n"
     ]
    }
   ],
   "source": [
    "### Scatter and box plots\n",
    "\n",
    "# First calculate degrees of original graph and strengths of similarity graph\n",
    "# Recall bdist_swap is the nNodes x nNodes x nReps x maxDim matrix of distances\n",
    "sim_array = 1 .- bdist_swap./theo_dist_swap\n",
    "sim_array[isnan.(sim_array)] .= 0\n",
    "sim_weighted_degree_array = dropdims(sum(sim_array,dims = 1), dims = 1)\n",
    "badj_degree_array = dropdims(sum(badj_array, dims = 1), dims = 1)\n",
    "\n",
    "tolap_all_vec = strictLTvector3D(tolap_all)\n",
    "sim_matrices = 1 .- bdist_swap_mean1./theo_dist_swap\n",
    "sim_matrices_vec = strictLTvector3D(sim_matrices)\n",
    "\n",
    "\n",
    "p3a = scatter(reshape(sim_matrices_vec,length(sim_matrices_vec),1),reshape(tolap_all_vec,length(tolap_all_vec),1),\n",
    "    markeralpha = 0.2,xlabel = \"Top Similarity mean\", ylabel = \"Tolap\", legend = false)\n",
    "#p3a = scatter([badj_degree_array...], [sim_weighted_degree_array...], xlabel = \"Degree in badj\",\n",
    "#    ylabel= \"Strength in TS\", aspect_ratio = :equal, markeralpha = 0.5, xlim = (0,70))\n",
    "\n",
    "p3b = boxplot([1.0],record_slopes_mat[:,1], c = colors_orig[1],markersize = 2)\n",
    "boxplot!([2.0],record_slopes_mat[:,2], c = colors_orig[2],markersize = 2)\n",
    "boxplot!([3.0],record_slopes_mat[:,3], title = \"Local Slope Fits\", xlabel = \"Dimension\",\n",
    "    ylabel = \"Slope\", legend = false,c = colors_orig[3], markersize = 2, xlim = (0,4), size = (300,600), framestyle = :box)\n",
    "\n",
    "p3c = plot(0:nNodes,0:nNodes,c = RGB(0.64,0.64,0.64),title = \"Distance plots dim1\", legend = false, aspect_ratio = :equal)\n",
    "for i0 in collect(1:69)\n",
    "    keep1 = dmat_local[theo_dist_local.==i0,1]\n",
    "    boxplot!([i0],keep1,linewidth = 0.5, markersize = 0.5, c = RGB(0.1,0.2,0.3))\n",
    "end\n",
    "\n",
    "p3d = plot(0:nNodes,0:nNodes,c = RGB(0.64,0.64,0.64),title = \"Distance plots dim2\", legend = false, aspect_ratio = :equal)\n",
    "for i0 in collect(1:69)\n",
    "    keep1 = dmat_local[theo_dist_local.==i0,2]\n",
    "    boxplot!([i0],keep1,linewidth = 0.5, markersize = 0.5, c = RGB(0.1,0.2,0.3))\n",
    "end\n",
    "\n",
    "p3e = plot(0:nNodes,0:nNodes,c = RGB(0.64,0.64,0.64),title = \"Distance plots dim3\", legend = false, aspect_ratio = :equal)\n",
    "for i0 in collect(1:69)\n",
    "    keep1 = dmat_local[theo_dist_local.==i0,3]\n",
    "    boxplot!([i0],keep1,linewidth = 0.5, markersize = 0.5, c = RGB(0.1,0.2,0.3))\n",
    "end\n",
    "\n",
    "\n",
    "p3f = plot(0:nNodes,0:nNodes,c = RGB(0.64,0.64,0.64),title = \"Distance plots avg\", legend = false, framestyle = :box)\n",
    "dmat_local_meanDim = mean(dmat_local,dims = 2)\n",
    "for i0 in collect(1:69)\n",
    "    keep1 = dmat_local_meanDim[theo_dist_local.==i0,1]\n",
    "    boxplot!([i0],keep1,linewidth = 0.5, markersize = 0.5, c = RGB(0.1,0.2,0.3), ylim = (0,20),frame = true,\n",
    "        ylabel = \"BN Distance\", framestyle = :box)\n",
    "end\n",
    "\n",
    "\n",
    "p3all = plot(p3a,p3b,p3c,p3d,p3e,p3f, grid = (3,2))\n",
    "\n",
    "savefig(\"$(graph_name)_local_boxplots.pdf\")\n",
    "\n",
    "println(\"Done saving $(graph_name)_local_boxplots.pdf\")"
   ]
  },
  {
   "cell_type": "code",
   "execution_count": 7,
   "metadata": {},
   "outputs": [
    {
     "name": "stdout",
     "output_type": "stream",
     "text": [
      "[1] \"Modularity = 0.0222840827090667for the weighted graph\"\n"
     ]
    },
    {
     "data": {
      "text/plain": [
       "17.0"
      ]
     },
     "execution_count": 7,
     "metadata": {},
     "output_type": "execute_result"
    }
   ],
   "source": [
    "R_communities_wu =  R\"calculate_communities_wu\"\n",
    "R_calculate_connected_components = R\"calculate_connected_components\"\n",
    "\n",
    "\n",
    "simRatio_comms_listR = R_communities_wu(simRatio)   # simRatio for averaged or simRatio_1 for one instance\n",
    "simRatio_comms = rcopy(simRatio_comms_listR[1])\n",
    "Q = rcopy(simRatio_comms_listR[2])\n",
    "\n",
    "node_strength = sum(simRatio,dims = 2)\n",
    "\n",
    "maximum(simRatio_comms)"
   ]
  },
  {
   "cell_type": "code",
   "execution_count": 8,
   "metadata": {},
   "outputs": [
    {
     "name": "stdout",
     "output_type": "stream",
     "text": [
      "done!\n"
     ]
    }
   ],
   "source": [
    "# Save to matlab file for further plotting\n",
    "\n",
    "ex1 = 1\n",
    "matwrite(\"$(graph_name)_simratiocomms.mat\", Dict(\n",
    "\t\"badj\" => badj_array[:,:,ex1],\n",
    "\t\"simRatio_comms\" => simRatio_comms,\n",
    "    \"node_sim_strength\" => node_strength,\n",
    "    \"Q\" => Q,\n",
    "    \"simRatio\" => simRatio\n",
    "))\n",
    "\n",
    "\n",
    "G = nothing\n",
    "GC.gc()\n",
    "println(\"done!\")"
   ]
  },
  {
   "cell_type": "code",
   "execution_count": 9,
   "metadata": {},
   "outputs": [],
   "source": [
    "## Only show the subplots we use in the main figures\n",
    "\n",
    "\n",
    "l = @layout [ a; b; c{0.6w} d{0.2w}]\n",
    "pall = plot(p2c,p2d,p3f,p3b, layout = l,size = (1300,1600),tickfont=font(28))\n",
    "\n",
    "\n",
    "savefig(\"$(graph_name)_local_all.pdf\")"
   ]
  },
  {
   "cell_type": "code",
   "execution_count": null,
   "metadata": {},
   "outputs": [],
   "source": []
  }
 ],
 "metadata": {
  "kernelspec": {
   "display_name": "Julia 1.0.3",
   "language": "julia",
   "name": "julia-1.0"
  },
  "language_info": {
   "file_extension": ".jl",
   "mimetype": "application/julia",
   "name": "julia",
   "version": "1.0.3"
  }
 },
 "nbformat": 4,
 "nbformat_minor": 2
}
