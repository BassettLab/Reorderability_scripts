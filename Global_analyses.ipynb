{
 "cells": [
  {
   "cell_type": "markdown",
   "metadata": {},
   "source": [
    "## Global reordering analyses\n"
   ]
  },
  {
   "cell_type": "code",
   "execution_count": 1,
   "metadata": {},
   "outputs": [
    {
     "data": {
      "text/html": [
       "<script>\n",
       "// Immediately-invoked-function-expression to avoid global variables.\n",
       "(function() {\n",
       "    var warning_div = document.getElementById(\"webio-warning-9981608953269194435\");\n",
       "    var hide = function () {\n",
       "        var script = document.getElementById(\"webio-setup-5001052243377405432\");\n",
       "        var parent = script && script.parentElement;\n",
       "        var grandparent = parent && parent.parentElement;\n",
       "        if (grandparent) {\n",
       "            grandparent.style.display = \"none\";\n",
       "        }\n",
       "        warning_div.style.display = \"none\";\n",
       "    };\n",
       "    if (typeof Jupyter !== \"undefined\") {\n",
       "        console.log(\"WebIO detected Jupyter notebook environment.\");\n",
       "        // Jupyter notebook.\n",
       "        var extensions = (\n",
       "            Jupyter\n",
       "            && Jupyter.notebook.config.data\n",
       "            && Jupyter.notebook.config.data.load_extensions\n",
       "        );\n",
       "        if (extensions && extensions[\"webio/main\"]) {\n",
       "            // Extension already loaded.\n",
       "            console.log(\"Jupyter WebIO nbextension detected; not loading ad-hoc.\");\n",
       "            hide();\n",
       "            return;\n",
       "        }\n",
       "        console.warn(\"Loading WebIO Jupyter extension on an ad-hoc basis. Consider enabling the WebIO nbextension for a stabler experience (this should happen automatically when building WebIO).\");\n",
       "        require([\"/assetserver/b9b099db28a7ba8f329539eab76be3cb20183848-dist/main.js\"], function (webIOModule) {\n",
       "            webIOModule.load_ipython_extension();\n",
       "        });\n",
       "        warning_div.innerHTML = \"<strong>Loading WebIO Jupyter extension on an ad-hoc basis. Consider enabling the WebIO nbextension for a stabler experience (this should happen automatically when building WebIO).</strong>\";\n",
       "    } else if (window.location.pathname.includes(\"/lab\")) {\n",
       "        // Guessing JupyterLa\n",
       "        console.log(\"Jupyter Lab detected; make sure the @webio/jupyter-lab-provider labextension is installed.\");\n",
       "        hide();\n",
       "        return;\n",
       "    }\n",
       "})();\n",
       "\n",
       "</script>\n",
       "<div\n",
       "    id=\"webio-warning-9981608953269194435\"\n",
       "    class=\"output_text output_stderr\"\n",
       "    style=\"padding: 1em; font-weight: bold;\"\n",
       ">\n",
       "    Unable to load WebIO. Please make sure WebIO works for your Jupyter client.\n",
       "    <!-- TODO: link to installation docs. -->\n",
       "</div>\n"
      ],
      "text/plain": [
       "HTML{String}(\"<script>\\n// Immediately-invoked-function-expression to avoid global variables.\\n(function() {\\n    var warning_div = document.getElementById(\\\"webio-warning-9981608953269194435\\\");\\n    var hide = function () {\\n        var script = document.getElementById(\\\"webio-setup-5001052243377405432\\\");\\n        var parent = script && script.parentElement;\\n        var grandparent = parent && parent.parentElement;\\n        if (grandparent) {\\n            grandparent.style.display = \\\"none\\\";\\n        }\\n        warning_div.style.display = \\\"none\\\";\\n    };\\n    if (typeof Jupyter !== \\\"undefined\\\") {\\n        console.log(\\\"WebIO detected Jupyter notebook environment.\\\");\\n        // Jupyter notebook.\\n        var extensions = (\\n            Jupyter\\n            && Jupyter.notebook.config.data\\n            && Jupyter.notebook.config.data.load_extensions\\n        );\\n        if (extensions && extensions[\\\"webio/main\\\"]) {\\n            // Extension already loaded.\\n            console.log(\\\"Jupyter WebIO nbextension detected; not loading ad-hoc.\\\");\\n            hide();\\n            return;\\n        }\\n        console.warn(\\\"Loading WebIO Jupyter extension on an ad-hoc basis. Consider enabling the WebIO nbextension for a stabler experience (this should happen automatically when building WebIO).\\\");\\n        require([\\\"/assetserver/b9b099db28a7ba8f329539eab76be3cb20183848-dist/main.js\\\"], function (webIOModule) {\\n            webIOModule.load_ipython_extension();\\n        });\\n        warning_div.innerHTML = \\\"<strong>Loading WebIO Jupyter extension on an ad-hoc basis. Consider enabling the WebIO nbextension for a stabler experience (this should happen automatically when building WebIO).</strong>\\\";\\n    } else if (window.location.pathname.includes(\\\"/lab\\\")) {\\n        // Guessing JupyterLa\\n        console.log(\\\"Jupyter Lab detected; make sure the @webio/jupyter-lab-provider labextension is installed.\\\");\\n        hide();\\n        return;\\n    }\\n})();\\n\\n</script>\\n<div\\n    id=\\\"webio-warning-9981608953269194435\\\"\\n    class=\\\"output_text output_stderr\\\"\\n    style=\\\"padding: 1em; font-weight: bold;\\\"\\n>\\n    Unable to load WebIO. Please make sure WebIO works for your Jupyter client.\\n    <!-- TODO: link to installation docs. -->\\n</div>\\n\")"
      ]
     },
     "metadata": {},
     "output_type": "display_data"
    },
    {
     "name": "stderr",
     "output_type": "stream",
     "text": [
      "┌ Warning: RCall.jl: \n",
      "│ Attaching package: ‘igraph’\n",
      "│ \n",
      "│ The following objects are masked from ‘package:stats’:\n",
      "│ \n",
      "│     decompose, spectrum\n",
      "│ \n",
      "│ The following object is masked from ‘package:base’:\n",
      "│ \n",
      "│     union\n",
      "│ \n",
      "└ @ RCall /Users/annsizemore/.julia/packages/RCall/ffM0W/src/io.jl:113\n"
     ]
    },
    {
     "data": {
      "text/plain": [
       "computeBettiDistances_glob (generic function with 1 method)"
      ]
     },
     "execution_count": 1,
     "metadata": {},
     "output_type": "execute_result"
    }
   ],
   "source": [
    "\n",
    "# Import packages and load in helper functions\n",
    "include(\"helper_functions.jl\")\n"
   ]
  },
  {
   "cell_type": "code",
   "execution_count": 2,
   "metadata": {},
   "outputs": [
    {
     "data": {
      "image/svg+xml": [
       "<?xml version=\"1.0\" encoding=\"UTF-8\"?>\n",
       "<!DOCTYPE svg PUBLIC \"-//W3C//DTD SVG 1.1//EN\"\n",
       " \"http://www.w3.org/Graphics/SVG/1.1/DTD/svg11.dtd\">\n",
       "<svg xmlns=\"http://www.w3.org/2000/svg\" version=\"1.1\"\n",
       "     width=\"75.0mm\" height=\"25.0mm\"\n",
       "     shape-rendering=\"crispEdges\">\n",
       "<rect x=\"0.0mm\" y=\"0.0mm\"\n",
       "      width=\"24.0mm\" height=\"24.0mm\"\n",
       "      fill=\"#4C80FF\" stroke=\"none\" />\n",
       "<rect x=\"25.0mm\" y=\"0.0mm\"\n",
       "      width=\"24.0mm\" height=\"24.0mm\"\n",
       "      fill=\"#3BE666\" stroke=\"none\" />\n",
       "<rect x=\"50.0mm\" y=\"0.0mm\"\n",
       "      width=\"24.0mm\" height=\"24.0mm\"\n",
       "      fill=\"#E64C80\" stroke=\"none\" />\n",
       "</svg>"
      ],
      "text/plain": [
       "1×3 Array{RGB{Float64},2} with eltype RGB{Float64}:\n",
       " RGB{Float64}(0.3,0.5,1.0)  …  RGB{Float64}(0.9,0.3,0.5)"
      ]
     },
     "execution_count": 2,
     "metadata": {},
     "output_type": "execute_result"
    }
   ],
   "source": [
    "## Global reordering analysis\n",
    "\n",
    "####### ---- parameters to define ------ #####\n",
    "maxDim = 3\n",
    "yLim = 6       # 70 for PP, 6 for RG and OP, 150 for ER, 80 for PA, 60 SG\n",
    "graph_name = \"NF_RG_ep015_1218\"\n",
    "\n",
    "colors_orig = [RGB(0.1,0.1,1) RGB(0.1,1,0.1) RGB(1,0.1,0.1)]\n",
    "colors_1 = [RGB(0.15,0.15,1) RGB(0.15,1,0.15) RGB(1,0.15,0.15)]\n",
    "colors_2 = [RGB(0.19,0.19,1) RGB(0.19,1,0.19) RGB(1,0.19,0.19)]\n",
    "colors_r = [RGB(0.3,0.5,1) RGB(0.23,0.9,0.4) RGB(0.9,0.3,0.5)]\n",
    "\n",
    "###### ---------------------------- ######"
   ]
  },
  {
   "cell_type": "markdown",
   "metadata": {},
   "source": [
    "## Load data from persistent homology outputs"
   ]
  },
  {
   "cell_type": "code",
   "execution_count": 3,
   "metadata": {},
   "outputs": [],
   "source": [
    "\n",
    "graph_name_0 = \"$(graph_name)\"\n",
    "graph_name_glob = \"$(graph_name)_glob\"\n",
    "\n",
    "\n",
    "## Load the original graph and 1000 reps\n",
    "filename_0 = \"$graph_name_0\"\n",
    "z = load(\"Results/$(filename_0)_pis.jld\")\n",
    "barcode_array = z[\"barcode_array\"]\n",
    "dict1 = matread(\"Results/$(filename_0).mat\")\n",
    "s_0_array = dict1[\"s_0_array\"]\n",
    "nReps = dict1[\"nReps\"]\n",
    "nGraphs = dict1[\"nGraphs\"]\n",
    "nNodes = dict1[\"nNodes\"]\n",
    "jadj_array = dict1[\"jadj_array\"]\n",
    "nmats = size(s_0_array,1)\n",
    "\n",
    "## Clear\n",
    "dict0 = nothing\n",
    "dict1 = nothing\n",
    "z = nothing\n",
    "GC.gc()"
   ]
  },
  {
   "cell_type": "code",
   "execution_count": 4,
   "metadata": {},
   "outputs": [
    {
     "data": {
      "text/plain": [
       "71×3 Array{Float64,2}:\n",
       " 0.0    0.0    0.0  \n",
       " 0.0    0.0    0.0  \n",
       " 0.0    0.0    0.0  \n",
       " 0.0    0.0    0.0  \n",
       " 0.005  0.0    0.0  \n",
       " 0.017  0.0    0.0  \n",
       " 0.021  0.0    0.0  \n",
       " 0.041  0.0    0.0  \n",
       " 0.057  0.0    0.0  \n",
       " 0.081  0.0    0.0  \n",
       " 0.112  0.0    0.0  \n",
       " 0.144  0.0    0.0  \n",
       " 0.202  0.0    0.0  \n",
       " ⋮                  \n",
       " 2.595  0.231  0.001\n",
       " 2.645  0.237  0.001\n",
       " 2.697  0.242  0.001\n",
       " 2.778  0.247  0.001\n",
       " 2.838  0.257  0.001\n",
       " 2.895  0.261  0.001\n",
       " 2.941  0.266  0.001\n",
       " 2.995  0.275  0.001\n",
       " 3.048  0.282  0.001\n",
       " 3.09   0.291  0.001\n",
       " 3.149  0.296  0.001\n",
       " 3.131  0.296  0.001"
      ]
     },
     "execution_count": 4,
     "metadata": {},
     "output_type": "execute_result"
    }
   ],
   "source": [
    "## Calculate Betti curves for original unordered growing graphs\n",
    "\n",
    "bettiCurve, birthCurve, deathCurve = bettiCurveFromBarcode(barcode_array,nNodes,nmats,maxDim)\n",
    "\n",
    "ribbon_std = dropdims(std(bettiCurve,dims = 1),dims = 1)\n",
    "bettiCurve_mean = mean(bettiCurve,dims = 1)\n",
    "bettiCurve_mean = dropdims(bettiCurve_mean,dims = 1)\n"
   ]
  },
  {
   "cell_type": "code",
   "execution_count": 5,
   "metadata": {},
   "outputs": [
    {
     "name": "stdout",
     "output_type": "stream",
     "text": [
      "Done computing Betti curve distances between sampled originally ordered growing graphs\n"
     ]
    }
   ],
   "source": [
    "## Choose random sample of 10,000 pairs from the above run to compute distance between Betti curves\n",
    "\n",
    "nGraphs = 1000\n",
    "nSamples = 10000\n",
    "bettiCurveDistances = computeBettiDistances_sampled(bettiCurve,nGraphs,nSamples)\n",
    "    \n",
    "# Now bettiCurveDistances has our distances between randomly sampled original graphs.    \n",
    "println(\"Done computing Betti curve distances between sampled originally ordered growing graphs\")"
   ]
  },
  {
   "cell_type": "code",
   "execution_count": 6,
   "metadata": {},
   "outputs": [
    {
     "name": "stdout",
     "output_type": "stream",
     "text": [
      "Computing BN Distances between orig and reordered\n",
      "Computing BN Distances between sampled orderings\n",
      "Computing BN Distances between sampled originals\n",
      "loaded relevant data100.0\n",
      "101.0\n",
      "Done loading all files\n"
     ]
    }
   ],
   "source": [
    "###### Compute bottleneck distances\n",
    "\n",
    "z = load(\"Results/$(graph_name_glob)_pis.jld\")\n",
    "barcode_array_glob = z[\"barcode_array\"]\n",
    "\n",
    "println(\"Computing BN Distances between orig and reordered\")\n",
    "dmat_glob = computeBNDistances_glob(barcode_array_glob)\n",
    "println(\"Computing BN Distances between sampled orderings\")\n",
    "dmat_glob_sampledR = computeBNDistances_globSampled(barcode_array_glob)\n",
    "println(\"Computing BN Distances between sampled originals\")\n",
    "dmat_sampled = computeBNDistances_Sampled(barcode_array,size(barcode_array)[1])\n",
    "\n",
    "\n",
    "dict2 = matread(\"Results/$(graph_name_glob).mat\")\n",
    "s_0_array_glob = dict2[\"s_0_array\"]\n",
    "nNodes = dict2[\"nNodes\"]\n",
    "nGraphs = dict2[\"nGraphs\"]\n",
    "nReps = dict2[\"nReps\"]\n",
    "\n",
    "dict2 = nothing\n",
    "dict3 = nothing\n",
    "dict4 = nothing\n",
    "GC.gc()\n",
    "print(\"loaded relevant data\")\n",
    "println(nGraphs)\n",
    "println(nReps)\n",
    "\n",
    "\n",
    "\n",
    "\n",
    "println(\"Done loading all files\")"
   ]
  },
  {
   "cell_type": "code",
   "execution_count": 7,
   "metadata": {},
   "outputs": [
    {
     "name": "stdout",
     "output_type": "stream",
     "text": [
      "Constructing Betti curves...\n",
      "Done constructing Betti curves\n",
      "The maximum Betti curve distance between sampled graphs is 9.0\n",
      "The max Betti curve distance between orig and reordered is 11.0\n",
      "The max Betti curve distance between reorderings is 12.0\n",
      "Max barcode distance between reorderings is 30.0\n"
     ]
    }
   ],
   "source": [
    "#### Calculating more Betti curves\n",
    "\n",
    "\n",
    "s_wei_array_glob = orderToWeights(s_0_array_glob,nNodes)\n",
    "theo_dist_glob = calculateTheoreticaMaxDistance(s_wei_array_glob,10100) \n",
    "\n",
    "\n",
    "inds1 = collect(0:nReps:(nReps*nGraphs-1))\n",
    "inds1 = inds1 .+1\n",
    "inds1 = Int.(inds1)\n",
    "barcode_array_glob_orig = barcode_array_glob[inds1,:]\n",
    "indsr = setdiff(1:(nReps*nGraphs),inds1)\n",
    "indsr = Int.(indsr)\n",
    "barcode_array_glob_r = barcode_array_glob[indsr,:]\n",
    "dmat_glob_r = dmat_glob[indsr,:]\n",
    "\n",
    "\n",
    "## Make Betti curves\n",
    "println(\"Constructing Betti curves...\")\n",
    "bettiCurve_orig, birthCurve_orig, deathCurve_orig, bettiBar_orig = bettiCurveFromBarcode(barcode_array_glob_orig,nNodes,nGraphs,maxDim)\n",
    "bettiCurve_r, birthCurve_r, deathCurve_r, bettiBar_r = bettiCurveFromBarcode(barcode_array_glob_r,nNodes,10000,maxDim)\n",
    "bettiCurve_glob_all, birthCurve_glob_all, deathCurve_glob_all, bettiBar_glob_all = bettiCurveFromBarcode(barcode_array_glob,nNodes,10100,maxDim)\n",
    "println(\"Done constructing Betti curves\")\n",
    "\n",
    "bettiCurve_orig_mean = dropdims(mean(bettiCurve_orig,dims = 1),dims = 1)\n",
    "bettiCurve_r_mean = dropdims(mean(bettiCurve_r,dims = 1), dims = 1)\n",
    "bettiCurveStd_orig = dropdims(std(bettiCurve_orig,dims = 1),dims = 1)\n",
    "bettiCurveStd_r = dropdims(std(bettiCurve_r,dims = 1),dims = 1)\n",
    "\n",
    "\n",
    "## Calculate differences between Betti curves of reordered and original\n",
    "bettiCurveDistances_glob = computeBettiDistances_glob(bettiCurve_orig,bettiCurve_r,nGraphs,maxDim,nReps)\n",
    "\n",
    "\n",
    "## Calculate differences between Betti curves keeping topology the same\n",
    "nSamples = 100\n",
    "nGraphs = Int(nGraphs)\n",
    "nReps = Int(nReps)\n",
    "bettiCurveDistances_globSampled = computeBettiDistances_topologysampled(bettiCurve_glob_all,nGraphs,nSamples,nReps,maxDim)\n",
    "\n",
    "\n",
    "println(\"The maximum Betti curve distance between sampled graphs is $(maximum(bettiCurveDistances))\")\n",
    "println(\"The max Betti curve distance between orig and reordered is $(maximum(bettiCurveDistances_glob))\")\n",
    "println(\"The max Betti curve distance between reorderings is $(maximum(bettiCurveDistances_globSampled))\")\n",
    "println(\"Max barcode distance between reorderings is $(maximum(dmat_glob_sampledR))\")"
   ]
  },
  {
   "cell_type": "markdown",
   "metadata": {},
   "source": [
    "## Plotting Betti curves and boxplots"
   ]
  },
  {
   "cell_type": "code",
   "execution_count": 8,
   "metadata": {},
   "outputs": [
    {
     "data": {
      "text/plain": [
       "Two sample t-test (unequal variance)\n",
       "------------------------------------\n",
       "Population details:\n",
       "    parameter of interest:   Mean difference\n",
       "    value under h_0:         0\n",
       "    point estimate:          -1.868439603960395\n",
       "    95% confidence interval: (-1.9922, -1.7447)\n",
       "\n",
       "Test summary:\n",
       "    outcome with 95% confidence: reject h_0\n",
       "    two-sided p-value:           <1e-99\n",
       "\n",
       "Details:\n",
       "    number of observations:   [10000,10100]\n",
       "    t-statistic:              -29.599820944883284\n",
       "    degrees of freedom:       19011.716155205442\n",
       "    empirical standard error: 0.06312334143640755\n"
      ]
     },
     "execution_count": 8,
     "metadata": {},
     "output_type": "execute_result"
    }
   ],
   "source": [
    "\n",
    "gr()\n",
    "\n",
    "p2a = plot(1:(nNodes+1),bettiCurve_orig_mean, c=colors_orig, label = [\"B_1\" \"B_2\" \"B_3\"], linewidth = 2, ribbon = bettiCurveStd_orig)\n",
    "plot!(1:(nNodes+1),bettiCurve_r_mean,xlabel = \"nNodes\", ylabel = \"Betti_k\",title = graph_name,\n",
    "    c = colors_r, linewidth = 2, ribbon = bettiCurveStd_r, label = [\"B_1 reord\" \"B_2 reord\" \"B_3 reord\"],ylim = (0,yLim), framestyle =:box)\n",
    "    \n",
    "p2b = boxplot([1],dmat_sampled[:,1], c = colors_orig[1], markersize = 1)\n",
    "boxplot!([2],dmat_glob_r[:,1], c = colors_1[1], markersize = 1)\n",
    "boxplot!([3],dmat_glob_sampledR[:,1], c = colors_2[1], markersize = 1)\n",
    "boxplot!([4],dmat_sampled[:,2], c = colors_orig[2], markersize = 1)\n",
    "boxplot!([5],dmat_glob_r[:,2], c = colors_1[2], markersize = 1)\n",
    "boxplot!([6],dmat_glob_sampledR[:,2], c = colors_2[2], markersize = 1)\n",
    "boxplot!([7],dmat_sampled[:,3], c = colors_orig[3], markersize = 1)\n",
    "boxplot!([8],dmat_glob_r[:,3], c =colors_1[3], markersize = 1)\n",
    "boxplot!([9],dmat_glob_sampledR[:,3],xlim = (0,10), ylabel = \"Distance\", c = colors_2[3], markersize = 1, framestyle =:box)\n",
    "\n",
    "\n",
    "p2c = boxplot([1],bettiCurveDistances[:,1], c = colors_orig[1], markersize = 1)\n",
    "boxplot!([2],bettiCurveDistances_glob[:,1], c = colors_1[1], markersize = 1)\n",
    "boxplot!([3],bettiCurveDistances_globSampled[:,1], c = colors_2[1], markersize = 1)\n",
    "boxplot!([4],bettiCurveDistances[:,2], c = colors_orig[2], markersize = 1)\n",
    "boxplot!([5],bettiCurveDistances_glob[:,2], c = colors_1[2], markersize = 1)\n",
    "boxplot!([6],bettiCurveDistances_globSampled[:,2],c = colors_2[2], markersize = 1)\n",
    "boxplot!([7],bettiCurveDistances[:,3], c = colors_orig[3], markersize = 1)\n",
    "boxplot!([8],bettiCurveDistances_glob[:,3], c = colors_1[3], markersize = 1)\n",
    "boxplot!([9],bettiCurveDistances_globSampled[:,3], ylabel = \"Betti Diffs\", xlim = (0,10), c = colors_2[3], markersize = 1, framestyle =:box)\n",
    "\n",
    "p2all = plot(p2a,p2b,p2c,layout=(3,1),margin = 10mm,size= (400,900), legend=false)\n",
    "\n",
    "savefig(\"$(graph_name)_GlobReorder.pdf\")      \n",
    "\n",
    "GC.gc()\n",
    "\n",
    "\n",
    "# Calculate two sample t-test for checking purposes.\n",
    "UnequalVarianceTTest(dmat_glob_sampledR[:,1], dmat_glob[:,1])\n"
   ]
  }
 ],
 "metadata": {
  "kernelspec": {
   "display_name": "Julia 1.0.3",
   "language": "julia",
   "name": "julia-1.0"
  },
  "language_info": {
   "file_extension": ".jl",
   "mimetype": "application/julia",
   "name": "julia",
   "version": "1.0.3"
  }
 },
 "nbformat": 4,
 "nbformat_minor": 2
}
